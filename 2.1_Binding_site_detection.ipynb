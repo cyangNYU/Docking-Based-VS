{
 "cells": [
  {
   "cell_type": "markdown",
   "id": "informative-works",
   "metadata": {},
   "source": [
    "### Binding pocket analysis using AlphaSpace2"
   ]
  },
  {
   "cell_type": "markdown",
   "id": "deadly-payday",
   "metadata": {},
   "source": [
    "1. Active (6x5g structure) and inactive (AF-v1 structure) are used for binding pocket analysis.\n",
    "2. Details of pocket analysis can be found in pocket_analysis/.\n",
    "3. The detected top 5 pockets for active and inacitve structures can be viewed using Chimera (open at chimera_view/Protein_pocket_6x5g.py and chimera_view/Protein_pocket_AF.py)"
   ]
  },
  {
   "cell_type": "markdown",
   "id": "south-deployment",
   "metadata": {},
   "source": [
    "For active structure, two pockets are selected for docking:\n",
    "1. ATP binding site (can be viewed using Chimera open at chimera_view/protein_active_ATP_site.py)\n",
    "2. Protein/peptide binding site (can be viewed using Chimera open at chimera_view/protein_active_pep_site.py)\n"
   ]
  },
  {
   "cell_type": "markdown",
   "id": "italian-headline",
   "metadata": {},
   "source": [
    "Literatures have reported this protein/peptide binding site where autoinhibition helix occupy in inacitve form."
   ]
  },
  {
   "cell_type": "code",
   "execution_count": null,
   "id": "unknown-insertion",
   "metadata": {},
   "outputs": [],
   "source": []
  },
  {
   "cell_type": "markdown",
   "id": "aware-flashing",
   "metadata": {},
   "source": [
    "For inactive structure, two pockets are selected for docking:"
   ]
  },
  {
   "cell_type": "markdown",
   "id": "reasonable-donor",
   "metadata": {},
   "source": [
    "1. ATP binding site (can be viewed using Chimera open at chimera_view/protein_inactive_ATP_site.py)\n",
    "2. Helix binding site (can be viewed using Chimera open at chimera_view/protein_inactive_Helix_site.py)"
   ]
  },
  {
   "cell_type": "markdown",
   "id": "dense-niger",
   "metadata": {},
   "source": [
    "For this helix binding site, I intend to discover small molecule stabilizer to stablize the autoinhibition helix in the inactive position."
   ]
  },
  {
   "cell_type": "code",
   "execution_count": null,
   "id": "orange-bangladesh",
   "metadata": {},
   "outputs": [],
   "source": []
  }
 ],
 "metadata": {
  "kernelspec": {
   "display_name": "Python 3",
   "language": "python",
   "name": "python3"
  },
  "language_info": {
   "codemirror_mode": {
    "name": "ipython",
    "version": 3
   },
   "file_extension": ".py",
   "mimetype": "text/x-python",
   "name": "python",
   "nbconvert_exporter": "python",
   "pygments_lexer": "ipython3",
   "version": "3.8.5"
  }
 },
 "nbformat": 4,
 "nbformat_minor": 5
}
