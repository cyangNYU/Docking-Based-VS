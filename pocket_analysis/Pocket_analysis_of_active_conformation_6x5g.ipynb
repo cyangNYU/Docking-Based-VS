{
 "cells": [
  {
   "cell_type": "code",
   "execution_count": 1,
   "id": "boxed-replica",
   "metadata": {},
   "outputs": [],
   "source": [
    "import alphaspace2 as al\n",
    "import mdtraj\n",
    "import numpy as np\n",
    "from scipy.spatial.distance import cdist\n",
    "from scipy.cluster.hierarchy import fcluster, linkage\n",
    "from alphaspace2.functions import _binCluster, _group\n",
    "from alphaspace2.Cluster import _DPocket\n",
    "import pandas as pd\n",
    "import os"
   ]
  },
  {
   "cell_type": "code",
   "execution_count": 2,
   "id": "strange-finland",
   "metadata": {},
   "outputs": [],
   "source": [
    "from communities import genCommunityPocket,CoreCluster"
   ]
  },
  {
   "cell_type": "code",
   "execution_count": 3,
   "id": "false-hierarchy",
   "metadata": {},
   "outputs": [],
   "source": [
    "import features"
   ]
  },
  {
   "cell_type": "markdown",
   "id": "adolescent-billion",
   "metadata": {},
   "source": [
    "### In the first part we calculate the beta clusters"
   ]
  },
  {
   "cell_type": "code",
   "execution_count": 4,
   "id": "analyzed-society",
   "metadata": {
    "scrolled": false
   },
   "outputs": [
    {
     "name": "stdout",
     "output_type": "stream",
     "text": [
      "Redundant Atom types in pdbqt file found, trimming last {-1} entries\n",
      "Redundant Atom types in pdbqt file found, trimming last {-1} entries\n",
      "Redundant Atom types in pdbqt file found, trimming last {-1} entries\n",
      "Redundant Atom types in pdbqt file found, trimming last {-1} entries\n",
      "Redundant Atom types in pdbqt file found, trimming last {-1} entries\n",
      "Redundant Atom types in pdbqt file found, trimming last {-1} entries\n",
      "Redundant Atom types in pdbqt file found, trimming last {-1} entries\n",
      "Redundant Atom types in pdbqt file found, trimming last {-1} entries\n",
      "Redundant Atom types in pdbqt file found, trimming last {-1} entries\n",
      "Redundant Atom types in pdbqt file found, trimming last {-1} entries\n",
      "Redundant Atom types in pdbqt file found, trimming last {-1} entries\n",
      "Redundant Atom types in pdbqt file found, trimming last {-1} entries\n",
      "Redundant Atom types in pdbqt file found, trimming last {-1} entries\n",
      "Redundant Atom types in pdbqt file found, trimming last {-1} entries\n",
      "Redundant Atom types in pdbqt file found, trimming last {-1} entries\n",
      "Redundant Atom types in pdbqt file found, trimming last {-1} entries\n",
      "Redundant Atom types in pdbqt file found, trimming last {-1} entries\n"
     ]
    }
   ],
   "source": [
    "prot = mdtraj.load('protein_noH/6x5g.pdb')\n",
    "al.annotateVinaAtomTypes(pdbqt='protein_pdbqt_noH/6x5g.pdbqt', receptor=prot)"
   ]
  },
  {
   "cell_type": "code",
   "execution_count": 5,
   "id": "alternative-fellowship",
   "metadata": {},
   "outputs": [],
   "source": [
    "ss_prot = al.Snapshot()\n",
    "ss_prot.run(prot)"
   ]
  },
  {
   "cell_type": "code",
   "execution_count": 6,
   "id": "noble-furniture",
   "metadata": {},
   "outputs": [],
   "source": [
    "def Write_betaAtoms(ss, pdb_file):\n",
    "    betaAtoms = open(pdb_file,'w')\n",
    "    count = 1\n",
    "    c = 1\n",
    "    for p in ss.pockets:\n",
    "        for betaAtom in p.betas:\n",
    "            count = count+1\n",
    "            coord = betaAtom.centroid\n",
    "            ASpace = '%.1f'%betaAtom.space\n",
    "            Score = '%.1f'%betaAtom.score\n",
    "            atomtype = betaAtom.best_probe_type\n",
    "            x, y, z  = '%.3f'%coord[-3], '%.3f'%coord[-2], '%.3f'%coord[-1]\n",
    "            line = 'ATOM  ' + str(count).rjust(5) + str(atomtype).upper().rjust(5) + ' BAC' + str(c).rjust(5) + '     ' + str(x).rjust(8) + str(y).rjust(8) + str(z).rjust(8) + ' ' + str(ASpace).rjust(5) + ' ' + str(Score).rjust(5) + '           %s\\n'%atomtype\n",
    "            betaAtoms.write(line)\n",
    "    betaAtoms.close()"
   ]
  },
  {
   "cell_type": "code",
   "execution_count": 7,
   "id": "grave-final",
   "metadata": {},
   "outputs": [],
   "source": [
    "Write_betaAtoms(ss_prot, 'betaAtoms/6x5g_betaAtoms.pdb')"
   ]
  },
  {
   "cell_type": "markdown",
   "id": "solid-tutorial",
   "metadata": {},
   "source": [
    "### For the next cell, we store pocket properties into dictionaries which will be used for generating the surface communities"
   ]
  },
  {
   "cell_type": "code",
   "execution_count": 8,
   "id": "comfortable-ambassador",
   "metadata": {},
   "outputs": [],
   "source": [
    "temp_space_dict = {}\n",
    "temp_coords_dict = {}\n",
    "temp_contact_dict = {}\n",
    "temp_score_dict = {}\n",
    "temp_centroids_dict = {}\n",
    "for px,pocket in enumerate(ss_prot.pockets):\n",
    "    temp_coords_dict[px] = [list(b.xyz) for b in pocket.betas]\n",
    "    temp_score_dict[px] = np.array([min(b.scores) for b in  pocket.betas])\n",
    "    temp_space_dict[px] = np.array([b.space for b in  pocket.betas])\n",
    "    temp_contact_dict[px] = list(pocket.lining_atoms_idx)\n",
    "    temp_centroids_dict[px] = pocket.centroid"
   ]
  },
  {
   "cell_type": "code",
   "execution_count": 9,
   "id": "superior-point",
   "metadata": {},
   "outputs": [],
   "source": [
    "prot_coords = prot.xyz[0]*10 "
   ]
  },
  {
   "cell_type": "markdown",
   "id": "combined-dietary",
   "metadata": {},
   "source": [
    "### Generating communities for the CDK2 surface using the genCommunityPocket function"
   ]
  },
  {
   "cell_type": "code",
   "execution_count": 10,
   "id": "actual-stamp",
   "metadata": {},
   "outputs": [],
   "source": [
    "surface_communities = genCommunityPocket(prot_coords, temp_centroids_dict, temp_space_dict, \\\n",
    "                                            temp_contact_dict, temp_score_dict, \\\n",
    "                                            corecut = 100, auxcut = 30, tight_option = True, tight_cutoff_core = 12.5, tight_cutoff_aux = 6.5)"
   ]
  },
  {
   "cell_type": "markdown",
   "id": "flexible-button",
   "metadata": {},
   "source": [
    "### Calculate more features of beta clusters community"
   ]
  },
  {
   "cell_type": "code",
   "execution_count": 11,
   "id": "impressed-accessory",
   "metadata": {},
   "outputs": [],
   "source": [
    "surface_communities_props = {}\n",
    "for cx,community in surface_communities.items():\n",
    "    temp_coords_array = []\n",
    "    for pock in community['core_pockets'] + community['aux_pockets']:\n",
    "        temp_coords_array.extend(temp_coords_dict[pock])\n",
    "    temp_coords_array = np.array(temp_coords_array)\n",
    "    volume = features._get_grid_volume(temp_coords_array)\n",
    "    occluded_asa = features._get_pharmacophore_fingerprint(prot,temp_coords_array)\n",
    "    surface_communities_props[cx] = {}\n",
    "    surface_communities_props[cx]['space'] = community['space']\n",
    "    surface_communities_props[cx]['score'] = community['score']\n",
    "    surface_communities_props[cx]['volume'] = volume\n",
    "    surface_communities_props[cx]['occluded_asa'] = occluded_asa['Total_OASA']"
   ]
  },
  {
   "cell_type": "markdown",
   "id": "pharmaceutical-planner",
   "metadata": {},
   "source": [
    "### We save the pocket communities into pandas dataframe for easier viewing and data manipulation"
   ]
  },
  {
   "cell_type": "code",
   "execution_count": 12,
   "id": "wrong-processor",
   "metadata": {},
   "outputs": [
    {
     "data": {
      "text/html": [
       "<div>\n",
       "<style scoped>\n",
       "    .dataframe tbody tr th:only-of-type {\n",
       "        vertical-align: middle;\n",
       "    }\n",
       "\n",
       "    .dataframe tbody tr th {\n",
       "        vertical-align: top;\n",
       "    }\n",
       "\n",
       "    .dataframe thead th {\n",
       "        text-align: right;\n",
       "    }\n",
       "</style>\n",
       "<table border=\"1\" class=\"dataframe\">\n",
       "  <thead>\n",
       "    <tr style=\"text-align: right;\">\n",
       "      <th></th>\n",
       "      <th>space</th>\n",
       "      <th>score</th>\n",
       "      <th>volume</th>\n",
       "      <th>occluded_asa</th>\n",
       "    </tr>\n",
       "  </thead>\n",
       "  <tbody>\n",
       "    <tr>\n",
       "      <th>0</th>\n",
       "      <td>1396.0</td>\n",
       "      <td>-18.69</td>\n",
       "      <td>505.250</td>\n",
       "      <td>466.584746</td>\n",
       "    </tr>\n",
       "    <tr>\n",
       "      <th>1</th>\n",
       "      <td>1041.0</td>\n",
       "      <td>-16.54</td>\n",
       "      <td>544.750</td>\n",
       "      <td>569.511276</td>\n",
       "    </tr>\n",
       "    <tr>\n",
       "      <th>2</th>\n",
       "      <td>875.0</td>\n",
       "      <td>-12.58</td>\n",
       "      <td>406.125</td>\n",
       "      <td>449.403444</td>\n",
       "    </tr>\n",
       "    <tr>\n",
       "      <th>3</th>\n",
       "      <td>694.0</td>\n",
       "      <td>-9.98</td>\n",
       "      <td>350.375</td>\n",
       "      <td>425.373467</td>\n",
       "    </tr>\n",
       "    <tr>\n",
       "      <th>4</th>\n",
       "      <td>680.0</td>\n",
       "      <td>-10.31</td>\n",
       "      <td>354.750</td>\n",
       "      <td>381.842268</td>\n",
       "    </tr>\n",
       "    <tr>\n",
       "      <th>5</th>\n",
       "      <td>397.0</td>\n",
       "      <td>-7.00</td>\n",
       "      <td>292.375</td>\n",
       "      <td>320.202947</td>\n",
       "    </tr>\n",
       "    <tr>\n",
       "      <th>6</th>\n",
       "      <td>387.0</td>\n",
       "      <td>-5.19</td>\n",
       "      <td>219.625</td>\n",
       "      <td>240.265054</td>\n",
       "    </tr>\n",
       "    <tr>\n",
       "      <th>7</th>\n",
       "      <td>325.0</td>\n",
       "      <td>-6.88</td>\n",
       "      <td>194.750</td>\n",
       "      <td>235.337859</td>\n",
       "    </tr>\n",
       "    <tr>\n",
       "      <th>8</th>\n",
       "      <td>320.0</td>\n",
       "      <td>-7.24</td>\n",
       "      <td>118.875</td>\n",
       "      <td>74.191883</td>\n",
       "    </tr>\n",
       "    <tr>\n",
       "      <th>9</th>\n",
       "      <td>230.0</td>\n",
       "      <td>-3.28</td>\n",
       "      <td>138.375</td>\n",
       "      <td>155.157813</td>\n",
       "    </tr>\n",
       "  </tbody>\n",
       "</table>\n",
       "</div>"
      ],
      "text/plain": [
       "    space  score   volume  occluded_asa\n",
       "0  1396.0 -18.69  505.250    466.584746\n",
       "1  1041.0 -16.54  544.750    569.511276\n",
       "2   875.0 -12.58  406.125    449.403444\n",
       "3   694.0  -9.98  350.375    425.373467\n",
       "4   680.0 -10.31  354.750    381.842268\n",
       "5   397.0  -7.00  292.375    320.202947\n",
       "6   387.0  -5.19  219.625    240.265054\n",
       "7   325.0  -6.88  194.750    235.337859\n",
       "8   320.0  -7.24  118.875     74.191883\n",
       "9   230.0  -3.28  138.375    155.157813"
      ]
     },
     "execution_count": 12,
     "metadata": {},
     "output_type": "execute_result"
    }
   ],
   "source": [
    "community_data = pd.DataFrame.from_dict(surface_communities_props,orient='index')\n",
    "community_data.head(10)"
   ]
  },
  {
   "cell_type": "code",
   "execution_count": 16,
   "id": "marked-seeker",
   "metadata": {},
   "outputs": [
    {
     "data": {
      "text/plain": [
       "[79, 129, 131, 130, 128]"
      ]
     },
     "execution_count": 16,
     "metadata": {},
     "output_type": "execute_result"
    }
   ],
   "source": [
    "pock_list = []\n",
    "\n",
    "for cx,community in surface_communities.items():\n",
    "    if cx in [4]:\n",
    "        for pock in community['core_pockets'] + community['aux_pockets']:\n",
    "            pock_list.append(pock)\n",
    "pock_list"
   ]
  },
  {
   "cell_type": "code",
   "execution_count": 17,
   "id": "valid-bangkok",
   "metadata": {},
   "outputs": [],
   "source": [
    "def Write_betaAtoms(ss, pock_list, pdb_file):\n",
    "    selected_P = []\n",
    "    for i in pock_list:\n",
    "        selected_P.append([p for p in ss.pockets if p.index == i][0])\n",
    "    betaAtoms = open(pdb_file,'w')\n",
    "    for c,p in zip(pock_list, selected_P):\n",
    "        count = 0\n",
    "        for betaAtom in p.betas:\n",
    "            count = count+1\n",
    "            coord = betaAtom.centroid\n",
    "            ASpace = '%.1f'%betaAtom.space\n",
    "            Score = '%.1f'%betaAtom.score\n",
    "            atomtype = betaAtom.best_probe_type\n",
    "            x, y, z  = '%.3f'%coord[-3], '%.3f'%coord[-2], '%.3f'%coord[-1]\n",
    "            line = 'ATOM  ' + str(c).rjust(5) + '  BAO BAC' + str(count).rjust(5) + '     ' + str(x).rjust(8) + str(y).rjust(8) + str(z).rjust(8) + ' ' + str(ASpace).rjust(5) + ' ' + str(Score).rjust(5) + '           %s\\n'%atomtype\n",
    "            betaAtoms.write(line)\n",
    "    betaAtoms.close()"
   ]
  },
  {
   "cell_type": "code",
   "execution_count": 18,
   "id": "diverse-fusion",
   "metadata": {},
   "outputs": [],
   "source": [
    "Write_betaAtoms(ss_prot, pock_list, '../structure_data/prepare_box/active/box2_pep.pdb')"
   ]
  },
  {
   "cell_type": "code",
   "execution_count": null,
   "id": "young-nebraska",
   "metadata": {},
   "outputs": [],
   "source": []
  },
  {
   "cell_type": "code",
   "execution_count": null,
   "id": "described-niagara",
   "metadata": {},
   "outputs": [],
   "source": []
  },
  {
   "cell_type": "markdown",
   "id": "built-annex",
   "metadata": {},
   "source": [
    "### In this section, we present some scripts that can be use to visualize CDK2 communities along with the corresponding pictures. We will be saving the pocket communities in the CDK2_Communities/pocket_communities folder"
   ]
  },
  {
   "cell_type": "code",
   "execution_count": 17,
   "id": "identical-destruction",
   "metadata": {},
   "outputs": [],
   "source": [
    "protein_topology = []\n",
    "for resatom in prot.top.atoms:\n",
    "    res,atom_index,res_index,atom,element = resatom.residue.name, resatom.index, resatom.residue.index, resatom.name, resatom.element.symbol\n",
    "    protein_topology.append([res,atom_index,res_index,atom,element])\n",
    "protein_topology = np.array(protein_topology)"
   ]
  },
  {
   "cell_type": "code",
   "execution_count": 18,
   "id": "successful-truth",
   "metadata": {},
   "outputs": [],
   "source": [
    "for sx,data in surface_communities.items():\n",
    "    community_pdb = []\n",
    "    lining_atoms = set()\n",
    "    for pock in data['core_pockets'] + data['aux_pockets']:\n",
    "        score = np.sum(temp_score_dict[pock])\n",
    "        centroid = temp_centroids_dict[pock]\n",
    "        lining_atoms.update(list(temp_contact_dict[pock]))\n",
    "        if score <= -2.5:\n",
    "            res = 'BHI'\n",
    "        elif score > -2.5 and score <= -1.5:\n",
    "            res = 'BMI'\n",
    "        elif score > -1.5:\n",
    "            res = 'BLI'\n",
    "        community_pdb.append('ATOM  '+str(pock).rjust(5)+'  '+'BAO'+' '+res+'   '+str(pock).rjust(3)+'    '+str(round(centroid[0],3)).rjust(8)+str(round(centroid[1],3)).rjust(8)+str(round(centroid[2],3)).rjust(8)+str(0.0).rjust(6)+str(0.00).rjust(6)+'           C')\n",
    "    community_pdb.append('TER')\n",
    "    lining_atoms = list(lining_atoms)\n",
    "    lining_atoms.sort()\n",
    "    for top,coord in zip(protein_topology[lining_atoms],prot_coords[lining_atoms]):\n",
    "        res,atom_index,res_index,atom,element = top \n",
    "        community_pdb.append('ATOM  '+str(atom_index).rjust(5)+'  '+atom.ljust(3)+' '+res+'   '+str(res_index).rjust(3)+'    '+str(round(coord[0],3)).rjust(8)+str(round(coord[1],3)).rjust(8)+str(round(coord[2],3)).rjust(8)+str(0.0).rjust(6)+str(0.00).rjust(6)+'           '+element)\n",
    "    with open('pocket_6x5g/pocket_communities/community_'+str(sx)+'.pdb','w') as f:\n",
    "        f.write('\\n'.join(community_pdb))"
   ]
  },
  {
   "cell_type": "code",
   "execution_count": 19,
   "id": "mighty-number",
   "metadata": {},
   "outputs": [],
   "source": [
    "with open('pocket_6x5g/pocket_communities/protein.pdb','w') as f:\n",
    "    for top,coord in zip(protein_topology,prot_coords):    \n",
    "        res,atom_index,res_index,atom,element = top \n",
    "        f.write('ATOM  '+str(atom_index).rjust(5)+'  '+atom.ljust(3)+' '+res+'   '+str(res_index).rjust(3)+'    '+str(round(coord[0],3)).rjust(8)+str(round(coord[1],3)).rjust(8)+str(round(coord[2],3)).rjust(8)+str(0.0).rjust(6)+str(0.00).rjust(6)+'           '+element+'\\n')"
   ]
  },
  {
   "cell_type": "code",
   "execution_count": null,
   "id": "fluid-holocaust",
   "metadata": {},
   "outputs": [],
   "source": []
  }
 ],
 "metadata": {
  "kernelspec": {
   "display_name": "Python 3",
   "language": "python",
   "name": "python3"
  },
  "language_info": {
   "codemirror_mode": {
    "name": "ipython",
    "version": 3
   },
   "file_extension": ".py",
   "mimetype": "text/x-python",
   "name": "python",
   "nbconvert_exporter": "python",
   "pygments_lexer": "ipython3",
   "version": "3.8.5"
  }
 },
 "nbformat": 4,
 "nbformat_minor": 5
}
