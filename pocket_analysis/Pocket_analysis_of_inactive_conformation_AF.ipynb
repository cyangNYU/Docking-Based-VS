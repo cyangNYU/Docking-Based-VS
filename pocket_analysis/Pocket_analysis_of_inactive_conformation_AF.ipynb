{
 "cells": [
  {
   "cell_type": "code",
   "execution_count": 1,
   "id": "respiratory-brown",
   "metadata": {},
   "outputs": [],
   "source": [
    "import alphaspace2 as al\n",
    "import mdtraj\n",
    "import numpy as np\n",
    "from scipy.spatial.distance import cdist\n",
    "from scipy.cluster.hierarchy import fcluster, linkage\n",
    "from alphaspace2.functions import _binCluster, _group\n",
    "from alphaspace2.Cluster import _DPocket\n",
    "import pandas as pd\n",
    "import os"
   ]
  },
  {
   "cell_type": "code",
   "execution_count": 2,
   "id": "young-place",
   "metadata": {},
   "outputs": [],
   "source": [
    "from communities import genCommunityPocket,CoreCluster"
   ]
  },
  {
   "cell_type": "code",
   "execution_count": 3,
   "id": "grateful-wallet",
   "metadata": {},
   "outputs": [],
   "source": [
    "import features"
   ]
  },
  {
   "cell_type": "markdown",
   "id": "according-first",
   "metadata": {},
   "source": [
    "### In the first part we calculate the beta clusters"
   ]
  },
  {
   "cell_type": "code",
   "execution_count": 4,
   "id": "ethical-scholarship",
   "metadata": {},
   "outputs": [
    {
     "name": "stderr",
     "output_type": "stream",
     "text": [
      "/home/cyang/miniconda3/lib/python3.8/site-packages/mdtraj/formats/pdb/pdbfile.py:196: UserWarning: Unlikely unit cell vectors detected in PDB file likely resulting from a dummy CRYST1 record. Discarding unit cell vectors.\n",
      "  warnings.warn('Unlikely unit cell vectors detected in PDB file likely '\n"
     ]
    }
   ],
   "source": [
    "prot = mdtraj.load('protein_noH/AF-model.pdb')\n",
    "al.annotateVinaAtomTypes(pdbqt='protein_pdbqt_noH/AF-model.pdbqt', receptor=prot)"
   ]
  },
  {
   "cell_type": "code",
   "execution_count": 5,
   "id": "sexual-surge",
   "metadata": {},
   "outputs": [],
   "source": [
    "ss_prot = al.Snapshot()\n",
    "ss_prot.run(prot)"
   ]
  },
  {
   "cell_type": "code",
   "execution_count": 6,
   "id": "alert-tourism",
   "metadata": {},
   "outputs": [],
   "source": [
    "def Write_betaAtoms(ss, pdb_file):\n",
    "    betaAtoms = open(pdb_file,'w')\n",
    "    count = 1\n",
    "    c = 1\n",
    "    for p in ss.pockets:\n",
    "        for betaAtom in p.betas:\n",
    "            count = count+1\n",
    "            coord = betaAtom.centroid\n",
    "            ASpace = '%.1f'%betaAtom.space\n",
    "            Score = '%.1f'%betaAtom.score\n",
    "            atomtype = betaAtom.best_probe_type\n",
    "            x, y, z  = '%.3f'%coord[-3], '%.3f'%coord[-2], '%.3f'%coord[-1]\n",
    "            line = 'ATOM  ' + str(count).rjust(5) + str(atomtype).upper().rjust(5) + ' BAC' + str(c).rjust(5) + '     ' + str(x).rjust(8) + str(y).rjust(8) + str(z).rjust(8) + ' ' + str(ASpace).rjust(5) + ' ' + str(Score).rjust(5) + '           %s\\n'%atomtype\n",
    "            betaAtoms.write(line)\n",
    "    betaAtoms.close()"
   ]
  },
  {
   "cell_type": "code",
   "execution_count": 7,
   "id": "trained-wholesale",
   "metadata": {},
   "outputs": [],
   "source": [
    "Write_betaAtoms(ss_prot, 'betaAtoms/AF_betaAtoms.pdb')"
   ]
  },
  {
   "cell_type": "markdown",
   "id": "built-wheel",
   "metadata": {},
   "source": [
    "### For the next cell, we store pocket properties into dictionaries which will be used for generating the surface communities"
   ]
  },
  {
   "cell_type": "code",
   "execution_count": 8,
   "id": "thrown-picnic",
   "metadata": {},
   "outputs": [],
   "source": [
    "temp_space_dict = {}\n",
    "temp_coords_dict = {}\n",
    "temp_contact_dict = {}\n",
    "temp_score_dict = {}\n",
    "temp_centroids_dict = {}\n",
    "for px,pocket in enumerate(ss_prot.pockets):\n",
    "    temp_coords_dict[px] = [list(b.xyz) for b in pocket.betas]\n",
    "    temp_score_dict[px] = np.array([min(b.scores) for b in  pocket.betas])\n",
    "    temp_space_dict[px] = np.array([b.space for b in  pocket.betas])\n",
    "    temp_contact_dict[px] = list(pocket.lining_atoms_idx)\n",
    "    temp_centroids_dict[px] = pocket.centroid"
   ]
  },
  {
   "cell_type": "code",
   "execution_count": 9,
   "id": "empirical-default",
   "metadata": {},
   "outputs": [],
   "source": [
    "prot_coords = prot.xyz[0]*10 "
   ]
  },
  {
   "cell_type": "markdown",
   "id": "embedded-mineral",
   "metadata": {},
   "source": [
    "### Generating communities for the CDK2 surface using the genCommunityPocket function"
   ]
  },
  {
   "cell_type": "code",
   "execution_count": 10,
   "id": "abandoned-bracelet",
   "metadata": {},
   "outputs": [],
   "source": [
    "surface_communities = genCommunityPocket(prot_coords, temp_centroids_dict, temp_space_dict, \\\n",
    "                                            temp_contact_dict, temp_score_dict, \\\n",
    "                                            corecut = 100, auxcut = 30, tight_option = True, tight_cutoff_core = 12.5, tight_cutoff_aux = 6.5)"
   ]
  },
  {
   "cell_type": "markdown",
   "id": "french-coverage",
   "metadata": {},
   "source": [
    "### Calculate more features of beta clusters community"
   ]
  },
  {
   "cell_type": "code",
   "execution_count": 11,
   "id": "corresponding-arctic",
   "metadata": {},
   "outputs": [],
   "source": [
    "surface_communities_props = {}\n",
    "for cx,community in surface_communities.items():\n",
    "    temp_coords_array = []\n",
    "    for pock in community['core_pockets'] + community['aux_pockets']:\n",
    "        temp_coords_array.extend(temp_coords_dict[pock])\n",
    "    temp_coords_array = np.array(temp_coords_array)\n",
    "    volume = features._get_grid_volume(temp_coords_array)\n",
    "    occluded_asa = features._get_pharmacophore_fingerprint(prot,temp_coords_array)\n",
    "    surface_communities_props[cx] = {}\n",
    "    surface_communities_props[cx]['space'] = community['space']\n",
    "    surface_communities_props[cx]['score'] = community['score']\n",
    "    surface_communities_props[cx]['volume'] = volume\n",
    "    surface_communities_props[cx]['occluded_asa'] = occluded_asa['Total_OASA']"
   ]
  },
  {
   "cell_type": "markdown",
   "id": "entertaining-longer",
   "metadata": {},
   "source": [
    "### We save the pocket communities into pandas dataframe for easier viewing and data manipulation"
   ]
  },
  {
   "cell_type": "code",
   "execution_count": 12,
   "id": "legendary-greece",
   "metadata": {},
   "outputs": [
    {
     "data": {
      "text/html": [
       "<div>\n",
       "<style scoped>\n",
       "    .dataframe tbody tr th:only-of-type {\n",
       "        vertical-align: middle;\n",
       "    }\n",
       "\n",
       "    .dataframe tbody tr th {\n",
       "        vertical-align: top;\n",
       "    }\n",
       "\n",
       "    .dataframe thead th {\n",
       "        text-align: right;\n",
       "    }\n",
       "</style>\n",
       "<table border=\"1\" class=\"dataframe\">\n",
       "  <thead>\n",
       "    <tr style=\"text-align: right;\">\n",
       "      <th></th>\n",
       "      <th>space</th>\n",
       "      <th>score</th>\n",
       "      <th>volume</th>\n",
       "      <th>occluded_asa</th>\n",
       "    </tr>\n",
       "  </thead>\n",
       "  <tbody>\n",
       "    <tr>\n",
       "      <th>0</th>\n",
       "      <td>1957.0</td>\n",
       "      <td>-27.21</td>\n",
       "      <td>829.875</td>\n",
       "      <td>789.874613</td>\n",
       "    </tr>\n",
       "    <tr>\n",
       "      <th>1</th>\n",
       "      <td>1307.0</td>\n",
       "      <td>-15.54</td>\n",
       "      <td>616.500</td>\n",
       "      <td>723.399201</td>\n",
       "    </tr>\n",
       "    <tr>\n",
       "      <th>2</th>\n",
       "      <td>1255.0</td>\n",
       "      <td>-18.45</td>\n",
       "      <td>582.125</td>\n",
       "      <td>604.536966</td>\n",
       "    </tr>\n",
       "    <tr>\n",
       "      <th>3</th>\n",
       "      <td>970.0</td>\n",
       "      <td>-16.32</td>\n",
       "      <td>659.625</td>\n",
       "      <td>629.201766</td>\n",
       "    </tr>\n",
       "    <tr>\n",
       "      <th>4</th>\n",
       "      <td>606.0</td>\n",
       "      <td>-10.86</td>\n",
       "      <td>439.125</td>\n",
       "      <td>405.932265</td>\n",
       "    </tr>\n",
       "    <tr>\n",
       "      <th>5</th>\n",
       "      <td>585.0</td>\n",
       "      <td>-9.64</td>\n",
       "      <td>331.000</td>\n",
       "      <td>359.775833</td>\n",
       "    </tr>\n",
       "    <tr>\n",
       "      <th>6</th>\n",
       "      <td>503.0</td>\n",
       "      <td>-6.82</td>\n",
       "      <td>255.500</td>\n",
       "      <td>294.027993</td>\n",
       "    </tr>\n",
       "    <tr>\n",
       "      <th>7</th>\n",
       "      <td>465.0</td>\n",
       "      <td>-7.80</td>\n",
       "      <td>285.500</td>\n",
       "      <td>302.144754</td>\n",
       "    </tr>\n",
       "    <tr>\n",
       "      <th>8</th>\n",
       "      <td>393.0</td>\n",
       "      <td>-7.37</td>\n",
       "      <td>287.500</td>\n",
       "      <td>322.287796</td>\n",
       "    </tr>\n",
       "    <tr>\n",
       "      <th>9</th>\n",
       "      <td>337.0</td>\n",
       "      <td>-6.94</td>\n",
       "      <td>115.000</td>\n",
       "      <td>73.242363</td>\n",
       "    </tr>\n",
       "  </tbody>\n",
       "</table>\n",
       "</div>"
      ],
      "text/plain": [
       "    space  score   volume  occluded_asa\n",
       "0  1957.0 -27.21  829.875    789.874613\n",
       "1  1307.0 -15.54  616.500    723.399201\n",
       "2  1255.0 -18.45  582.125    604.536966\n",
       "3   970.0 -16.32  659.625    629.201766\n",
       "4   606.0 -10.86  439.125    405.932265\n",
       "5   585.0  -9.64  331.000    359.775833\n",
       "6   503.0  -6.82  255.500    294.027993\n",
       "7   465.0  -7.80  285.500    302.144754\n",
       "8   393.0  -7.37  287.500    322.287796\n",
       "9   337.0  -6.94  115.000     73.242363"
      ]
     },
     "execution_count": 12,
     "metadata": {},
     "output_type": "execute_result"
    }
   ],
   "source": [
    "community_data = pd.DataFrame.from_dict(surface_communities_props,orient='index')\n",
    "community_data.head(10)"
   ]
  },
  {
   "cell_type": "code",
   "execution_count": 19,
   "id": "spoken-packaging",
   "metadata": {},
   "outputs": [
    {
     "data": {
      "text/plain": [
       "[156, 161, 163, 164, 165, 155, 158]"
      ]
     },
     "execution_count": 19,
     "metadata": {},
     "output_type": "execute_result"
    }
   ],
   "source": [
    "pock_list = []\n",
    "\n",
    "for cx,community in surface_communities.items():\n",
    "    if cx in [2]:\n",
    "        for pock in community['core_pockets'] + community['aux_pockets']:\n",
    "            pock_list.append(pock)\n",
    "pock_list"
   ]
  },
  {
   "cell_type": "code",
   "execution_count": 20,
   "id": "otherwise-yesterday",
   "metadata": {},
   "outputs": [],
   "source": [
    "def Write_betaAtoms(ss, pock_list, pdb_file):\n",
    "    selected_P = []\n",
    "    for i in pock_list:\n",
    "        selected_P.append([p for p in ss.pockets if p.index == i][0])\n",
    "    betaAtoms = open(pdb_file,'w')\n",
    "    for c,p in zip(pock_list, selected_P):\n",
    "        count = 0\n",
    "        for betaAtom in p.betas:\n",
    "            count = count+1\n",
    "            coord = betaAtom.centroid\n",
    "            ASpace = '%.1f'%betaAtom.space\n",
    "            Score = '%.1f'%betaAtom.score\n",
    "            atomtype = betaAtom.best_probe_type\n",
    "            x, y, z  = '%.3f'%coord[-3], '%.3f'%coord[-2], '%.3f'%coord[-1]\n",
    "            line = 'ATOM  ' + str(c).rjust(5) + '  BAO BAC' + str(count).rjust(5) + '     ' + str(x).rjust(8) + str(y).rjust(8) + str(z).rjust(8) + ' ' + str(ASpace).rjust(5) + ' ' + str(Score).rjust(5) + '           %s\\n'%atomtype\n",
    "            betaAtoms.write(line)\n",
    "    betaAtoms.close()"
   ]
  },
  {
   "cell_type": "code",
   "execution_count": 21,
   "id": "separate-miniature",
   "metadata": {},
   "outputs": [],
   "source": [
    "Write_betaAtoms(ss_prot, pock_list, '../structure_data/prepare_box/inactive/box2_Helix.pdb')"
   ]
  },
  {
   "cell_type": "code",
   "execution_count": null,
   "id": "elegant-reference",
   "metadata": {},
   "outputs": [],
   "source": []
  },
  {
   "cell_type": "markdown",
   "id": "opening-campbell",
   "metadata": {},
   "source": [
    "### In this section, we present some scripts that can be use to visualize CDK2 communities along with the corresponding pictures. We will be saving the pocket communities in the CDK2_Communities/pocket_communities folder"
   ]
  },
  {
   "cell_type": "code",
   "execution_count": 13,
   "id": "marked-insurance",
   "metadata": {},
   "outputs": [],
   "source": [
    "protein_topology = []\n",
    "for resatom in prot.top.atoms:\n",
    "    res,atom_index,res_index,atom,element = resatom.residue.name, resatom.index, resatom.residue.index, resatom.name, resatom.element.symbol\n",
    "    protein_topology.append([res,atom_index,res_index,atom,element])\n",
    "protein_topology = np.array(protein_topology)"
   ]
  },
  {
   "cell_type": "code",
   "execution_count": 14,
   "id": "mysterious-making",
   "metadata": {},
   "outputs": [],
   "source": [
    "for sx,data in surface_communities.items():\n",
    "    community_pdb = []\n",
    "    lining_atoms = set()\n",
    "    for pock in data['core_pockets'] + data['aux_pockets']:\n",
    "        score = np.sum(temp_score_dict[pock])\n",
    "        centroid = temp_centroids_dict[pock]\n",
    "        lining_atoms.update(list(temp_contact_dict[pock]))\n",
    "        if score <= -2.5:\n",
    "            res = 'BHI'\n",
    "        elif score > -2.5 and score <= -1.5:\n",
    "            res = 'BMI'\n",
    "        elif score > -1.5:\n",
    "            res = 'BLI'\n",
    "        community_pdb.append('ATOM  '+str(pock).rjust(5)+'  '+'BAO'+' '+res+'   '+str(pock).rjust(3)+'    '+str(round(centroid[0],3)).rjust(8)+str(round(centroid[1],3)).rjust(8)+str(round(centroid[2],3)).rjust(8)+str(0.0).rjust(6)+str(0.00).rjust(6)+'           C')\n",
    "    community_pdb.append('TER')\n",
    "    lining_atoms = list(lining_atoms)\n",
    "    lining_atoms.sort()\n",
    "    for top,coord in zip(protein_topology[lining_atoms],prot_coords[lining_atoms]):\n",
    "        res,atom_index,res_index,atom,element = top \n",
    "        community_pdb.append('ATOM  '+str(atom_index).rjust(5)+'  '+atom.ljust(3)+' '+res+'   '+str(res_index).rjust(3)+'    '+str(round(coord[0],3)).rjust(8)+str(round(coord[1],3)).rjust(8)+str(round(coord[2],3)).rjust(8)+str(0.0).rjust(6)+str(0.00).rjust(6)+'           '+element)\n",
    "    with open('pocket_AF/pocket_communities/community_'+str(sx)+'.pdb','w') as f:\n",
    "        f.write('\\n'.join(community_pdb))"
   ]
  },
  {
   "cell_type": "code",
   "execution_count": 15,
   "id": "brutal-french",
   "metadata": {},
   "outputs": [],
   "source": [
    "with open('pocket_AF/pocket_communities/protein.pdb','w') as f:\n",
    "    for top,coord in zip(protein_topology,prot_coords):    \n",
    "        res,atom_index,res_index,atom,element = top \n",
    "        f.write('ATOM  '+str(atom_index).rjust(5)+'  '+atom.ljust(3)+' '+res+'   '+str(res_index).rjust(3)+'    '+str(round(coord[0],3)).rjust(8)+str(round(coord[1],3)).rjust(8)+str(round(coord[2],3)).rjust(8)+str(0.0).rjust(6)+str(0.00).rjust(6)+'           '+element+'\\n')"
   ]
  },
  {
   "cell_type": "code",
   "execution_count": null,
   "id": "loving-warning",
   "metadata": {},
   "outputs": [],
   "source": []
  }
 ],
 "metadata": {
  "kernelspec": {
   "display_name": "Python 3",
   "language": "python",
   "name": "python3"
  },
  "language_info": {
   "codemirror_mode": {
    "name": "ipython",
    "version": 3
   },
   "file_extension": ".py",
   "mimetype": "text/x-python",
   "name": "python",
   "nbconvert_exporter": "python",
   "pygments_lexer": "ipython3",
   "version": "3.8.5"
  }
 },
 "nbformat": 4,
 "nbformat_minor": 5
}
