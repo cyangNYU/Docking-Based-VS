{
 "cells": [
  {
   "cell_type": "markdown",
   "id": "civil-spring",
   "metadata": {},
   "source": [
    "### Structures of CAMK2a are obtained from PDB database and AlphaFold protein structure database"
   ]
  },
  {
   "cell_type": "markdown",
   "id": "freelance-embassy",
   "metadata": {},
   "source": [
    "1. 14 Crystal structures (resolution < 2.6) and 1 AlphaFold predicted structure of CAMK2a are collected.\n",
    "2. The superimposed structures can be viewed using Chimera (open at chimera_view/Protein_view.py)\n",
    "3. These 15 structures can be classified into active (12 structures) and inactive form (3 structures)"
   ]
  },
  {
   "cell_type": "markdown",
   "id": "rapid-fever",
   "metadata": {},
   "source": [
    "active form: 12 structures, after clustering the ATP binding site, 4 structures (6vzk, 6x5g, 7kl1, 7kl4) are used for ensemble docking. (at structure_data/prepare_protein/active/)"
   ]
  },
  {
   "cell_type": "markdown",
   "id": "cognitive-deviation",
   "metadata": {},
   "source": [
    "inactive form: 2vz6, 3soa, and AF-v1 (AlphaFold model v1), both 2vz6 and 3soa structures have mutations. All these 3 structures are used for ensemble docking. (at structure_data/prepare_protein/inactive/)"
   ]
  },
  {
   "cell_type": "markdown",
   "id": "whole-young",
   "metadata": {},
   "source": [
    "For the non-terminal missing residues in the crystal structures, modeller program in Chimera is used to model it."
   ]
  },
  {
   "cell_type": "markdown",
   "id": "blessed-andorra",
   "metadata": {},
   "source": [
    "Then, one active structure (6x5g, resolution=1.85) and one inactive structure (AF-v1, no mutations) are used for pocket analysis."
   ]
  },
  {
   "cell_type": "code",
   "execution_count": null,
   "id": "dimensional-arena",
   "metadata": {},
   "outputs": [],
   "source": []
  }
 ],
 "metadata": {
  "kernelspec": {
   "display_name": "Python 3",
   "language": "python",
   "name": "python3"
  },
  "language_info": {
   "codemirror_mode": {
    "name": "ipython",
    "version": 3
   },
   "file_extension": ".py",
   "mimetype": "text/x-python",
   "name": "python",
   "nbconvert_exporter": "python",
   "pygments_lexer": "ipython3",
   "version": "3.8.5"
  }
 },
 "nbformat": 4,
 "nbformat_minor": 5
}
